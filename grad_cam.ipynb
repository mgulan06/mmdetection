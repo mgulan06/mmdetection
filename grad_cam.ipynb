{
 "cells": [
  {
   "cell_type": "code",
   "execution_count": 1,
   "metadata": {},
   "outputs": [
    {
     "name": "stderr",
     "output_type": "stream",
     "text": [
      "/opt/conda/envs/openmmlab/lib/python3.8/site-packages/mmengine/optim/optimizer/zero_optimizer.py:11: DeprecationWarning: `TorchScript` support for functional optimizers is deprecated and will be removed in a future PyTorch release. Consider using the `torch.compile` optimizer instead.\n",
      "  from torch.distributed.optim import \\\n"
     ]
    }
   ],
   "source": [
    "# Copyright (c) OpenMMLab. All rights reserved.\n",
    "import argparse\n",
    "\n",
    "import cv2\n",
    "import torch\n",
    "import math\n",
    "\n",
    "\n",
    "import mmdet\n",
    "import mmengine\n",
    "import importlib\n",
    "importlib.reload(mmdet)\n",
    "importlib.reload(mmengine)\n",
    "\n",
    "from mmdet.apis import inference_detector, init_detector\n",
    "import os\n",
    "from random import choice\n",
    "from mmdet.utils.misc import get_test_pipeline_cfg\n",
    "from mmcv.transforms import Compose\n",
    "import mmdet.models.backbones"
   ]
  },
  {
   "cell_type": "code",
   "execution_count": 837,
   "metadata": {},
   "outputs": [
    {
     "name": "stdout",
     "output_type": "stream",
     "text": [
      "CONFIG LOAD\n",
      "EVALTYPE clean\n",
      "DATAROOT data/coco_poisoned_20_mixcolored/\n",
      "TRAIN STEP True {'type': 'GradWrapper', 'data_preprocessor': {'type': 'DetDataPreprocessor', 'pad_size_divisor': 32, 'batch_augments': []}, 'backbone': {'type': 'CSPDarknet', 'deepen_factor': 0.33, 'widen_factor': 0.5, 'out_indices': (2, 3, 4), 'use_depthwise': False, 'spp_kernal_sizes': (5, 9, 13), 'norm_cfg': {'type': 'BN', 'momentum': 0.03, 'eps': 0.001}, 'act_cfg': {'type': 'Swish'}}, 'neck': {'type': 'YOLOXPAFPN', 'in_channels': [128, 256, 512], 'out_channels': 128, 'num_csp_blocks': 1, 'use_depthwise': False, 'upsample_cfg': {'scale_factor': 2, 'mode': 'nearest'}, 'norm_cfg': {'type': 'BN', 'momentum': 0.03, 'eps': 0.001}, 'act_cfg': {'type': 'Swish'}}, 'bbox_head': {'type': 'YOLOXHead', 'num_classes': 1, 'in_channels': 128, 'feat_channels': 128, 'stacked_convs': 2, 'strides': (8, 16, 32), 'use_depthwise': False, 'norm_cfg': {'type': 'BN', 'momentum': 0.03, 'eps': 0.001}, 'act_cfg': {'type': 'Swish'}, 'loss_cls': {'type': 'CrossEntropyLoss', 'use_sigmoid': True, 'reduction': 'sum', 'loss_weight': 1.0}, 'loss_bbox': {'type': 'IoULoss', 'mode': 'square', 'eps': 1e-16, 'reduction': 'sum', 'loss_weight': 5.0}, 'loss_obj': {'type': 'CrossEntropyLoss', 'use_sigmoid': True, 'reduction': 'sum', 'loss_weight': 1.0}, 'loss_l1': {'type': 'L1Loss', 'reduction': 'sum', 'loss_weight': 1.0}, 'train_cfg': {'assigner': {'type': 'SimOTAAssigner', 'center_radius': 2.5}}, 'test_cfg': {'score_thr': 0.01, 'nms': {'type': 'nms', 'iou_threshold': 0.65}}}, 'train_cfg': {'assigner': {'type': 'SimOTAAssigner', 'center_radius': 2.5}}, 'test_cfg': {'score_thr': 0.01, 'nms': {'type': 'nms', 'iou_threshold': 0.65}}, 'img_scale': (640, 640), 'layer_name': 'bbox_head/multi_level_conv_cls/1'}\n",
      "Loads checkpoint by local backend from path: work_dirs/yolo_poison_rate_20/epoch_200.pth\n"
     ]
    }
   ],
   "source": [
    "importlib.reload(mmdet.models.backbones.grad_wrapper)\n",
    "\n",
    "default_config = \"configs/yolox/yolo_grad.py\"\n",
    "default_checkpoint = \"work_dirs/yolo_poison_rate_20/epoch_200.pth\"\n",
    "\n",
    "# layer_name = \"backbone/stage4/2/blocks/0/conv2\" # Zadnji u backbone\n",
    "# layer_name = \"backbone/stem/conv\"\n",
    "# layer_name=\"neck/reduce_layers/0\"\n",
    "layer_name=\"bbox_head/multi_level_conv_cls/1\"\n",
    "# layer_name=\"bbox_head/multi_level_conv_obj/0\"\n",
    "\n",
    "cfg_options = dict(\n",
    "    model=dict(\n",
    "        layer_name=layer_name,\n",
    "        bbox_head=dict(num_classes=1)\n",
    "        ))\n",
    "\n",
    "model = init_detector(\n",
    "    default_config,\n",
    "    default_checkpoint,\n",
    "    device=\"cuda\",\n",
    "    cfg_options=cfg_options)\n",
    "model.eval();"
   ]
  },
  {
   "cell_type": "code",
   "execution_count": 869,
   "metadata": {},
   "outputs": [
    {
     "name": "stdout",
     "output_type": "stream",
     "text": [
      "31\n"
     ]
    }
   ],
   "source": [
    "# data_root = 'data/coco_poisoned_0_mixcolored/train2017'\n",
    "data_root = 'data/coco_poisoned_20_mixcolored/val_clean2017'\n",
    "data_root = 'data/coco_poisoned_20_mixcolored/val_poisoned2017'\n",
    "\n",
    "img_name = choice(os.listdir(f\"{data_root}\")) # \"000000001655.jpg\"\n",
    "img_name = f\"{data_root}/{img_name}\"\n",
    "\n",
    "img = cv2.imread(img_name)\n",
    "\n",
    "test_pipeline = get_test_pipeline_cfg(model.cfg)\n",
    "test_pipeline[0].type = 'mmdet.LoadImageFromNDArray'\n",
    "test_pipeline = Compose(test_pipeline)\n",
    "data_ = dict(img=img, img_id=0)\n",
    "data_ = test_pipeline(data_)\n",
    "data_['inputs'] = [data_['inputs']]\n",
    "data_['data_samples'] = [data_['data_samples']]\n",
    "data_ = model.data_preprocessor(data_, False)\n",
    "results = model(**data_, mode='tensor')\n"
   ]
  },
  {
   "cell_type": "code",
   "execution_count": null,
   "metadata": {},
   "outputs": [],
   "source": []
  }
 ],
 "metadata": {
  "kernelspec": {
   "display_name": "openmmlab",
   "language": "python",
   "name": "python3"
  },
  "language_info": {
   "codemirror_mode": {
    "name": "ipython",
    "version": 3
   },
   "file_extension": ".py",
   "mimetype": "text/x-python",
   "name": "python",
   "nbconvert_exporter": "python",
   "pygments_lexer": "ipython3",
   "version": "3.8.19"
  }
 },
 "nbformat": 4,
 "nbformat_minor": 2
}
